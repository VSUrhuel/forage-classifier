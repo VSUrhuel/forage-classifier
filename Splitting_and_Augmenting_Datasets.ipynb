{
  "nbformat": 4,
  "nbformat_minor": 0,
  "metadata": {
    "colab": {
      "provenance": [],
      "machine_shape": "hm",
      "authorship_tag": "ABX9TyNg30/2RKkFd55FYwR5Eo2f",
      "include_colab_link": true
    },
    "kernelspec": {
      "name": "python3",
      "display_name": "Python 3"
    },
    "language_info": {
      "name": "python"
    }
  },
  "cells": [
    {
      "cell_type": "markdown",
      "metadata": {
        "id": "view-in-github",
        "colab_type": "text"
      },
      "source": [
        "<a href=\"https://colab.research.google.com/github/VSUrhuel/forage-classifier/blob/main/Splitting_and_Augmenting_Datasets.ipynb\" target=\"_parent\"><img src=\"https://colab.research.google.com/assets/colab-badge.svg\" alt=\"Open In Colab\"/></a>"
      ]
    },
    {
      "cell_type": "code",
      "execution_count": null,
      "metadata": {
        "id": "BSd69bXVB2mU"
      },
      "outputs": [],
      "source": [
        "import os\n",
        "import shutil\n",
        "import numpy as np\n",
        "from sklearn.model_selection import train_test_split\n",
        "from google.colab import drive\n",
        "import tensorflow as tf\n",
        "from tensorflow.keras.preprocessing.image import ImageDataGenerator\n",
        "import cv2"
      ]
    },
    {
      "cell_type": "code",
      "source": [
        "drive.mount('/content/drive')"
      ],
      "metadata": {
        "colab": {
          "base_uri": "https://localhost:8080/"
        },
        "id": "9NRJ5_AnG1Bk",
        "outputId": "a0c55aad-83d4-48a4-d5fb-38866d242039"
      },
      "execution_count": null,
      "outputs": [
        {
          "output_type": "stream",
          "name": "stdout",
          "text": [
            "Mounted at /content/drive\n"
          ]
        }
      ]
    },
    {
      "cell_type": "code",
      "source": [
        "original_dataset_dir = '/content/drive/MyDrive/_Shared/dataset'\n",
        "new_base_dir = '/content/drive/MyDrive/Thesis/Dataset'\n",
        "\n",
        "os.makedirs(new_base_dir, exist_ok=True)\n",
        "train_dir = os.path.join(new_base_dir, 'train')\n",
        "val_dir = os.path.join(new_base_dir, 'val')\n",
        "test_dir = os.path.join(new_base_dir, 'test')\n",
        "\n",
        "os.makedirs(train_dir, exist_ok=True)\n",
        "os.makedirs(val_dir, exist_ok=True)\n",
        "os.makedirs(test_dir, exist_ok=True)"
      ],
      "metadata": {
        "id": "V5mn3r67Haix"
      },
      "execution_count": null,
      "outputs": []
    },
    {
      "cell_type": "code",
      "source": [
        "classes = ['carabao-grass', 'centro', 'gliricidia', 'leucaena', 'para-grass']\n",
        "for cls in classes:\n",
        "    os.makedirs(os.path.join(train_dir, cls), exist_ok=True)\n",
        "    os.makedirs(os.path.join(val_dir, cls), exist_ok=True)\n",
        "    os.makedirs(os.path.join(test_dir, cls), exist_ok=True)\n",
        "\n",
        "train_alloc = 0.8\n",
        "val_alloc = 0.1\n",
        "test_alloc = 0.1"
      ],
      "metadata": {
        "id": "gwyESO2UH-ei"
      },
      "execution_count": null,
      "outputs": []
    },
    {
      "cell_type": "code",
      "source": [
        "train_datagen = ImageDataGenerator(\n",
        "    rescale=1/255.0,\n",
        "    rotation_range=40,\n",
        "    width_shift_range=0.2,\n",
        "    height_shift_range=0.2,\n",
        "    shear_range=0.2,\n",
        "    zoom_range=0.2,\n",
        "    horizontal_flip=True,\n",
        "    fill_mode='nearest'\n",
        ")"
      ],
      "metadata": {
        "id": "txdlJfbsT334"
      },
      "execution_count": null,
      "outputs": []
    },
    {
      "cell_type": "code",
      "source": [
        "global_index = 1\n",
        "for cls in classes:\n",
        "  dir = os.path.join(original_dataset_dir, cls)\n",
        "  images = os.listdir(dir)\n",
        "  np.random.shuffle(images)\n",
        "\n",
        "  train_split = int(train_alloc * len(images))\n",
        "  val_split = int((train_alloc + val_alloc) * len(images))\n",
        "\n",
        "  train_images = images[0:train_split]\n",
        "  val_images = images[train_split:val_split]\n",
        "  test_images = images[val_split:]\n",
        "\n",
        "  for img in train_images:\n",
        "    img_path = os.path.join(dir, img)\n",
        "    orig_name = f\"{cls}_{global_index:04d}_orig.jpg\"\n",
        "    orig_dst = os.path.join(train_dir, cls, orig_name)\n",
        "    if os.path.exists(orig_dst):\n",
        "      global_index += 4\n",
        "      continue\n",
        "\n",
        "    image = cv2.imread(img_path)\n",
        "    image = cv2.cvtColor(image, cv2.COLOR_BGR2RGB)\n",
        "\n",
        "    orig_name = f\"{cls}_{global_index:04d}_orig.jpg\"\n",
        "    cv2.imwrite(os.path.join(train_dir, cls, orig_name), cv2.cvtColor(image, cv2.COLOR_RGB2BGR))\n",
        "    global_index += 1\n",
        "    image = np.expand_dims(image, axis=0)\n",
        "    augmentation_iter = train_datagen.flow(image, batch_size=1)\n",
        "\n",
        "    for i in range(3):\n",
        "      augmented_name = f\"{cls}_{global_index+1+i:04d}_aug{i+1}.jpg\"\n",
        "      aug_dst = os.path.join(train_dir, cls, augmented_name)\n",
        "      if os.path.exists(aug_dst):\n",
        "        continue\n",
        "\n",
        "      augmented_image = next(augmentation_iter)[0]\n",
        "      if augmented_image.max() <= 1.0:\n",
        "        augmented_image = (augmented_image * 255).astype(np.uint8)\n",
        "      else:\n",
        "        augmented_image = augmented_image.astype(np.uint8)\n",
        "      cv2.imwrite(os.path.join(train_dir, cls, augmented_name), cv2.cvtColor(augmented_image, cv2.COLOR_RGB2BGR))\n",
        "    global_index +=4\n",
        "\n",
        "\n",
        "  for img in val_images:\n",
        "    name = f\"{cls}_{global_index:04d}.jpg\"\n",
        "    val_dst = os.path.join(val_dir, cls, name)\n",
        "    if(os.path.exists(val_dst)):\n",
        "      global_index += 1\n",
        "      continue\n",
        "    src = os.path.join(dir, img)\n",
        "    dst = os.path.join(val_dir, cls, name)\n",
        "    shutil.copy(src, dst)\n",
        "    global_index += 1\n",
        "\n",
        "  for img in test_images:\n",
        "    name = f\"{cls}_{global_index:04d}.jpg\"\n",
        "    test_dst = os.path.join(test_dir, cls, name)\n",
        "    if(os.path.exists(test_dst)):\n",
        "      global_index += 1\n",
        "      continue\n",
        "    src = os.path.join(dir, img)\n",
        "    dst = os.path.join(test_dir, cls, name)\n",
        "    shutil.copy(src, dst)\n",
        "    global_index += 1\n",
        "\n",
        "print(f\"Augmentation complete! Processed {global_index-1} total images.\")"
      ],
      "metadata": {
        "colab": {
          "base_uri": "https://localhost:8080/"
        },
        "id": "3MkNw9wqJFrq",
        "outputId": "1b3edd8d-1da9-4f05-bf0d-2e33b569dba3"
      },
      "execution_count": null,
      "outputs": [
        {
          "output_type": "stream",
          "name": "stdout",
          "text": [
            "Augmentation complete! Processed 2008 total images.\n"
          ]
        }
      ]
    }
  ]
}